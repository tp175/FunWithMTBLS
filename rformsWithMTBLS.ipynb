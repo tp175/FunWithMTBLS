{
  "nbformat": 4,
  "nbformat_minor": 0,
  "metadata": {
    "colab": {
      "provenance": [],
      "collapsed_sections": []
    },
    "kernelspec": {
      "name": "ir",
      "display_name": "R"
    },
    "language_info": {
      "name": "R"
    }
  },
  "cells": [
    {
      "cell_type": "code",
      "source": [
        "sessionInfo()"
      ],
      "metadata": {
        "colab": {
          "base_uri": "https://localhost:8080/",
          "height": 468
        },
        "id": "f-fYDtMHCh58",
        "outputId": "91e706b1-4ef2-477a-c5d2-18e5064517ed"
      },
      "execution_count": 1,
      "outputs": [
        {
          "output_type": "display_data",
          "data": {
            "text/plain": [
              "R version 4.2.1 (2022-06-23)\n",
              "Platform: x86_64-pc-linux-gnu (64-bit)\n",
              "Running under: Ubuntu 18.04.6 LTS\n",
              "\n",
              "Matrix products: default\n",
              "BLAS:   /usr/lib/x86_64-linux-gnu/openblas/libblas.so.3\n",
              "LAPACK: /usr/lib/x86_64-linux-gnu/libopenblasp-r0.2.20.so\n",
              "\n",
              "locale:\n",
              " [1] LC_CTYPE=en_US.UTF-8       LC_NUMERIC=C              \n",
              " [3] LC_TIME=en_US.UTF-8        LC_COLLATE=en_US.UTF-8    \n",
              " [5] LC_MONETARY=en_US.UTF-8    LC_MESSAGES=en_US.UTF-8   \n",
              " [7] LC_PAPER=en_US.UTF-8       LC_NAME=C                 \n",
              " [9] LC_ADDRESS=C               LC_TELEPHONE=C            \n",
              "[11] LC_MEASUREMENT=en_US.UTF-8 LC_IDENTIFICATION=C       \n",
              "\n",
              "attached base packages:\n",
              "[1] stats     graphics  grDevices utils     datasets  methods   base     \n",
              "\n",
              "loaded via a namespace (and not attached):\n",
              " [1] fansi_1.0.3     crayon_1.5.1    digest_0.6.29   utf8_1.2.2     \n",
              " [5] IRdisplay_1.1   repr_1.1.4      lifecycle_1.0.2 jsonlite_1.8.0 \n",
              " [9] evaluate_0.16   pillar_1.8.1    rlang_1.0.6     cli_3.4.1      \n",
              "[13] uuid_1.1-0      vctrs_0.4.1     IRkernel_1.3    tools_4.2.1    \n",
              "[17] glue_1.6.2      fastmap_1.1.0   compiler_4.2.1  base64enc_0.1-3\n",
              "[21] pbdZMQ_0.3-7    htmltools_0.5.3"
            ]
          },
          "metadata": {}
        }
      ]
    },
    {
      "cell_type": "code",
      "source": [
        "wd <- getwd()\n",
        "wd"
      ],
      "metadata": {
        "colab": {
          "base_uri": "https://localhost:8080/",
          "height": 34
        },
        "id": "UZgoDKuredzD",
        "outputId": "764bc650-a146-48cd-9031-d10d836fd6da"
      },
      "execution_count": 2,
      "outputs": [
        {
          "output_type": "display_data",
          "data": {
            "text/html": [
              "'/content'"
            ],
            "text/markdown": "'/content'",
            "text/latex": "'/content'",
            "text/plain": [
              "[1] \"/content\""
            ]
          },
          "metadata": {}
        }
      ]
    },
    {
      "cell_type": "code",
      "source": [
        "#install.packages('mzR')\n",
        "#install.packages('MSnbase')\n",
        "\n",
        "install.packages(\"BiocManager\")\n",
        "BiocManager::install(c(\"MSnbase\",\"mzR\",\"xcms\"))"
      ],
      "metadata": {
        "colab": {
          "base_uri": "https://localhost:8080/"
        },
        "id": "iwaGCJsbbfJB",
        "outputId": "3a485701-0e13-4151-e09b-1e07071cbb1d"
      },
      "execution_count": null,
      "outputs": [
        {
          "output_type": "stream",
          "name": "stderr",
          "text": [
            "Installing package into ‘/usr/local/lib/R/site-library’\n",
            "(as ‘lib’ is unspecified)\n",
            "\n",
            "'getOption(\"repos\")' replaces Bioconductor standard repositories, see\n",
            "'?repositories' for details\n",
            "\n",
            "replacement repositories:\n",
            "    CRAN: https://cran.rstudio.com\n",
            "\n",
            "\n",
            "Bioconductor version 3.15 (BiocManager 1.30.18), R 4.2.1 (2022-06-23)\n",
            "\n",
            "Installing package(s) 'BiocVersion', 'MSnbase', 'mzR', 'xcms'\n",
            "\n",
            "also installing the dependencies ‘formatR’, ‘bitops’, ‘lambda.r’, ‘futile.options’, ‘matrixStats’, ‘XVector’, ‘RCurl’, ‘GenomeInfoDbData’, ‘clue’, ‘futile.logger’, ‘snow’, ‘BH’, ‘limma’, ‘affyio’, ‘preprocessCore’, ‘zlibbioc’, ‘doParallel’, ‘foreach’, ‘iterators’, ‘DEoptimR’, ‘MatrixGenerics’, ‘GenomicRanges’, ‘GenomeInfoDb’, ‘DelayedArray’, ‘BiocGenerics’, ‘Biobase’, ‘S4Vectors’, ‘ProtGenerics’, ‘MsCoreUtils’, ‘BiocParallel’, ‘IRanges’, ‘plyr’, ‘vsn’, ‘affy’, ‘impute’, ‘pcaMethods’, ‘MALDIquant’, ‘mzID’, ‘XML’, ‘Rcpp’, ‘ncdf4’, ‘Rhdf5lib’, ‘RANN’, ‘MassSpecWavelet’, ‘robustbase’, ‘SummarizedExperiment’, ‘MsFeatures’\n",
            "\n",
            "\n"
          ]
        }
      ]
    },
    {
      "cell_type": "code",
      "execution_count": 4,
      "metadata": {
        "colab": {
          "base_uri": "https://localhost:8080/"
        },
        "id": "LDydMsFHBgs6",
        "outputId": "43ee607d-2d32-4390-c2a9-e4204f88ad87"
      },
      "outputs": [
        {
          "output_type": "stream",
          "name": "stderr",
          "text": [
            "Loading required package: BiocGenerics\n",
            "\n",
            "\n",
            "Attaching package: ‘BiocGenerics’\n",
            "\n",
            "\n",
            "The following objects are masked from ‘package:stats’:\n",
            "\n",
            "    IQR, mad, sd, var, xtabs\n",
            "\n",
            "\n",
            "The following objects are masked from ‘package:base’:\n",
            "\n",
            "    anyDuplicated, append, as.data.frame, basename, cbind, colnames,\n",
            "    dirname, do.call, duplicated, eval, evalq, Filter, Find, get, grep,\n",
            "    grepl, intersect, is.unsorted, lapply, Map, mapply, match, mget,\n",
            "    order, paste, pmax, pmax.int, pmin, pmin.int, Position, rank,\n",
            "    rbind, Reduce, rownames, sapply, setdiff, sort, table, tapply,\n",
            "    union, unique, unsplit, which.max, which.min\n",
            "\n",
            "\n",
            "Loading required package: Biobase\n",
            "\n",
            "Welcome to Bioconductor\n",
            "\n",
            "    Vignettes contain introductory material; view with\n",
            "    'browseVignettes()'. To cite Bioconductor, see\n",
            "    'citation(\"Biobase\")', and for packages 'citation(\"pkgname\")'.\n",
            "\n",
            "\n",
            "Loading required package: mzR\n",
            "\n",
            "Loading required package: Rcpp\n",
            "\n",
            "Loading required package: S4Vectors\n",
            "\n",
            "Loading required package: stats4\n",
            "\n",
            "\n",
            "Attaching package: ‘S4Vectors’\n",
            "\n",
            "\n",
            "The following objects are masked from ‘package:base’:\n",
            "\n",
            "    expand.grid, I, unname\n",
            "\n",
            "\n",
            "Loading required package: ProtGenerics\n",
            "\n",
            "\n",
            "Attaching package: ‘ProtGenerics’\n",
            "\n",
            "\n",
            "The following object is masked from ‘package:stats’:\n",
            "\n",
            "    smooth\n",
            "\n",
            "\n",
            "\n",
            "This is MSnbase version 2.22.0 \n",
            "  Visit https://lgatto.github.io/MSnbase/ to get started.\n",
            "\n",
            "\n",
            "\n",
            "Attaching package: ‘MSnbase’\n",
            "\n",
            "\n",
            "The following object is masked from ‘package:base’:\n",
            "\n",
            "    trimws\n",
            "\n",
            "\n"
          ]
        }
      ],
      "source": [
        "library(mzR)\n",
        "library(MSnbase)\n",
        "library(xcms)"
      ]
    },
    {
      "cell_type": "code",
      "source": [],
      "metadata": {
        "id": "yTnfg_U-6Nm5"
      },
      "execution_count": null,
      "outputs": []
    },
    {
      "cell_type": "code",
      "source": [
        "url1 <- \"http://ftp.ebi.ac.uk/pub/databases/metabolights/studies/public/MTBLS572\"\n",
        "f1 <- \"Glu_1_1.mzData\"\n",
        "\n",
        "download.file(paste0(url1,\"/\",f1), paste0(wd,\"/\",f1))\n",
        "print(list.files())"
      ],
      "metadata": {
        "colab": {
          "base_uri": "https://localhost:8080/"
        },
        "id": "FsGNNljSlWpP",
        "outputId": "a6f5e400-55ff-42fd-ab2c-7af755b63430"
      },
      "execution_count": 11,
      "outputs": [
        {
          "output_type": "stream",
          "name": "stdout",
          "text": [
            "[1] \"Bur-189_2-D,5_01_37766.mzData\"          \n",
            "[2] \"Glu_1_1.mzData\"                         \n",
            "[3] \"PipelineTesting_RPOS_ToF10_B1E1_SR.mzML\"\n",
            "[4] \"sample_data\"                            \n"
          ]
        }
      ]
    },
    {
      "cell_type": "code",
      "source": [
        "data_ms <- readMSData(f1)\n",
        "#data_ms <- readMSData(paste0(wd,\"/\",f1), mode=\"onDisk\")\n",
        "data_ms"
      ],
      "metadata": {
        "colab": {
          "base_uri": "https://localhost:8080/",
          "height": 339
        },
        "id": "SLdpNpK3viIV",
        "outputId": "2ae4d14a-c9c5-4d44-cc67-92de05b2f7f5"
      },
      "execution_count": 13,
      "outputs": [
        {
          "output_type": "error",
          "ename": "ERROR",
          "evalue": "ignored",
          "traceback": [
            "Error in .mzRBackendFromContent(x): Could not determine file type for /content/Glu_1_1.mzData\nTraceback:\n",
            "1. readMSData(f2)",
            "2. hasSpectra(files)",
            "3. sapply(files, mzR:::.hasSpectra)",
            "4. sapply(files, mzR:::.hasSpectra)",
            "5. lapply(X = X, FUN = FUN, ...)",
            "6. FUN(X[[i]], ...)",
            "7. mzR::openMSfile(x)",
            "8. .mzRBackend(filename)",
            "9. suppressWarnings(.mzRBackendFromContent(x))",
            "10. withCallingHandlers(expr, warning = function(w) if (inherits(w, \n  .     classes)) tryInvokeRestart(\"muffleWarning\"))",
            "11. .mzRBackendFromContent(x)",
            "12. stop(\"Could not determine file type for \", x)"
          ]
        }
      ]
    },
    {
      "cell_type": "code",
      "source": [
        "ms <- openMSfile(f1)\n",
        "#ms <- openMSfile(paste0(wd,\"/\",f1))\n",
        "ms"
      ],
      "metadata": {
        "colab": {
          "base_uri": "https://localhost:8080/",
          "height": 235
        },
        "id": "ooAXZMzr3YFc",
        "outputId": "51b1bd58-a3b8-41ab-cb22-345a5777afb3"
      },
      "execution_count": 14,
      "outputs": [
        {
          "output_type": "error",
          "ename": "ERROR",
          "evalue": "ignored",
          "traceback": [
            "Error in .mzRBackendFromContent(x): Could not determine file type for Glu_1_1.mzData\nTraceback:\n",
            "1. openMSfile(f2)",
            "2. .mzRBackend(filename)",
            "3. suppressWarnings(.mzRBackendFromContent(x))",
            "4. withCallingHandlers(expr, warning = function(w) if (inherits(w, \n .     classes)) tryInvokeRestart(\"muffleWarning\"))",
            "5. .mzRBackendFromContent(x)",
            "6. stop(\"Could not determine file type for \", x)"
          ]
        }
      ]
    },
    {
      "cell_type": "code",
      "source": [],
      "metadata": {
        "id": "V3e1LJqt6zJ3"
      },
      "execution_count": null,
      "outputs": []
    },
    {
      "cell_type": "code",
      "source": [
        "url0 <- \"http://ftp.ebi.ac.uk/pub/databases/metabolights/studies/public/MTBLS694\"\n",
        "f0 <- \"PipelineTesting_RPOS_ToF10_B1E1_SR.mzML\"\n",
        "\n",
        "download.file(paste0(url0,\"/\",f0), paste0(wd,\"/\",f0))\n",
        "print(list.files())"
      ],
      "metadata": {
        "colab": {
          "base_uri": "https://localhost:8080/"
        },
        "id": "uJp77yx25bqU",
        "outputId": "17338391-556f-4d92-bb19-86f415b33222"
      },
      "execution_count": 5,
      "outputs": [
        {
          "output_type": "stream",
          "name": "stdout",
          "text": [
            "[1] \"PipelineTesting_RPOS_ToF10_B1E1_SR.mzML\"\n",
            "[2] \"sample_data\"                            \n"
          ]
        }
      ]
    },
    {
      "cell_type": "code",
      "source": [
        "#data_ms <- readMSData(f0)\n",
        "data_ms <- readMSData(paste0(wd,\"/\",f0), mode=\"onDisk\", centroided=TRUE)\n",
        "data_ms"
      ],
      "metadata": {
        "colab": {
          "base_uri": "https://localhost:8080/",
          "height": 399
        },
        "id": "ErBDg7Rf5cpK",
        "outputId": "4b2e54ae-ee2b-4a7e-ec97-e6e0f660bb2c"
      },
      "execution_count": 6,
      "outputs": [
        {
          "output_type": "display_data",
          "data": {
            "text/plain": [
              "MSn experiment data (\"OnDiskMSnExp\")\n",
              "Object size in memory: 2.28 Mb\n",
              "- - - Spectra data - - -\n",
              " MS level(s): 1 \n",
              " Number of spectra: 6408 \n",
              " MSn retention times: 0:01 - 12:30 minutes\n",
              "- - - Processing information - - -\n",
              "Data loaded [Mon Sep 26 18:58:48 2022] \n",
              " MSnbase version: 2.22.0 \n",
              "- - - Meta data  - - -\n",
              "phenoData\n",
              "  rowNames: PipelineTesting_RPOS_ToF10_B1E1_SR.mzML\n",
              "  varLabels: sampleNames\n",
              "  varMetadata: labelDescription\n",
              "Loaded from:\n",
              "  PipelineTesting_RPOS_ToF10_B1E1_SR.mzML \n",
              "protocolData: none\n",
              "featureData\n",
              "  featureNames: F1.S0001 F1.S0002 ... F1.S6408 (6408 total)\n",
              "  fvarLabels: fileIdx spIdx ... spectrum (35 total)\n",
              "  fvarMetadata: labelDescription\n",
              "experimentData: use 'experimentData(object)'"
            ]
          },
          "metadata": {}
        }
      ]
    },
    {
      "cell_type": "code",
      "source": [
        "ms <- openMSfile(f0)\n",
        "#ms <- openMSfile(paste0(wd,\"/\",f0))\n",
        "ms"
      ],
      "metadata": {
        "colab": {
          "base_uri": "https://localhost:8080/",
          "height": 69
        },
        "id": "9gYOaFU45hXB",
        "outputId": "3efa35e5-979e-47cd-a378-4aae17888195"
      },
      "execution_count": 16,
      "outputs": [
        {
          "output_type": "display_data",
          "data": {
            "text/plain": [
              "Mass Spectrometry file handle.\n",
              "Filename:  PipelineTesting_RPOS_ToF10_B1E1_SR.mzML \n",
              "Number of scans:  6408 "
            ]
          },
          "metadata": {}
        }
      ]
    },
    {
      "cell_type": "code",
      "source": [
        "writeMSData(data_ms, file=\"test.mzML\", copy=TRUE)"
      ],
      "metadata": {
        "id": "tOQNAYHr432v"
      },
      "execution_count": 20,
      "outputs": []
    },
    {
      "cell_type": "code",
      "source": [],
      "metadata": {
        "id": "alyOBKmGAtZY"
      },
      "execution_count": null,
      "outputs": []
    },
    {
      "cell_type": "code",
      "source": [
        "url2 <- \"http://ftp.ebi.ac.uk/pub/databases/metabolights/studies/public/MTBLS338\"\n",
        "f2 <- \"Bur-189_2-D,5_01_37766.mzData\"\n",
        "\n",
        "download.file(paste0(url2,\"/\",f2), paste0(wd,\"/\",f2))\n",
        "print(list.files())"
      ],
      "metadata": {
        "colab": {
          "base_uri": "https://localhost:8080/"
        },
        "id": "X19FaAHZEM3U",
        "outputId": "6816627d-9623-4624-98c3-3f8a0ee6d6ab"
      },
      "execution_count": 7,
      "outputs": [
        {
          "output_type": "stream",
          "name": "stdout",
          "text": [
            "[1] \"Bur-189_2-D,5_01_37766.mzData\"          \n",
            "[2] \"PipelineTesting_RPOS_ToF10_B1E1_SR.mzML\"\n",
            "[3] \"sample_data\"                            \n"
          ]
        }
      ]
    },
    {
      "cell_type": "code",
      "source": [
        "data_ms <- readMSData(f2)\n",
        "#data_ms <- readMSData(paste0(wd,\"/\",f2), mode=\"onDisk\")\n",
        "data_ms"
      ],
      "metadata": {
        "colab": {
          "base_uri": "https://localhost:8080/",
          "height": 322
        },
        "id": "iuTD1WDXe3h8",
        "outputId": "39482677-c5d2-44a1-a602-1c18728496cb"
      },
      "execution_count": 10,
      "outputs": [
        {
          "output_type": "error",
          "ename": "ERROR",
          "evalue": "ignored",
          "traceback": [
            "Error in if (substr(readBin(x, character(), n = 1), 1, 3) == \"CDF\") {: argument is of length zero\nTraceback:\n",
            "1. readMSData(f1)",
            "2. hasSpectra(files)",
            "3. sapply(files, mzR:::.hasSpectra)",
            "4. sapply(files, mzR:::.hasSpectra)",
            "5. lapply(X = X, FUN = FUN, ...)",
            "6. FUN(X[[i]], ...)",
            "7. mzR::openMSfile(x)",
            "8. .mzRBackend(filename)",
            "9. suppressWarnings(.mzRBackendFromContent(x))",
            "10. withCallingHandlers(expr, warning = function(w) if (inherits(w, \n  .     classes)) tryInvokeRestart(\"muffleWarning\"))",
            "11. .mzRBackendFromContent(x)"
          ]
        }
      ]
    },
    {
      "cell_type": "code",
      "source": [
        "ms <- openMSfile(f2)\n",
        "#ms <- openMSfile(paste0(wd,\"/\",f2))\n",
        "ms"
      ],
      "metadata": {
        "colab": {
          "base_uri": "https://localhost:8080/",
          "height": 218
        },
        "id": "2t_NT50AB_j-",
        "outputId": "91a76a6a-cff3-4d1f-9e7b-c096b5e28d14"
      },
      "execution_count": 9,
      "outputs": [
        {
          "output_type": "error",
          "ename": "ERROR",
          "evalue": "ignored",
          "traceback": [
            "Error in if (substr(readBin(x, character(), n = 1), 1, 3) == \"CDF\") {: argument is of length zero\nTraceback:\n",
            "1. openMSfile(f1)",
            "2. .mzRBackend(filename)",
            "3. suppressWarnings(.mzRBackendFromContent(x))",
            "4. withCallingHandlers(expr, warning = function(w) if (inherits(w, \n .     classes)) tryInvokeRestart(\"muffleWarning\"))",
            "5. .mzRBackendFromContent(x)"
          ]
        }
      ]
    },
    {
      "cell_type": "code",
      "source": [],
      "metadata": {
        "id": "VQtw7myg4epB"
      },
      "execution_count": null,
      "outputs": []
    }
  ]
}